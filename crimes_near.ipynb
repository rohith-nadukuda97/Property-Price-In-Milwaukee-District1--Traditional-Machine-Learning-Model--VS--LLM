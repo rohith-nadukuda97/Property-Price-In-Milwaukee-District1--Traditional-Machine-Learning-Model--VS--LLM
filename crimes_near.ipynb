{
 "cells": [
  {
   "cell_type": "code",
   "execution_count": 2,
   "id": "eec784d9",
   "metadata": {},
   "outputs": [
    {
     "name": "stdout",
     "output_type": "stream",
     "text": [
      "Requirement already satisfied: pandas in c:\\users\\naduk\\anaconda3\\lib\\site-packages (2.2.3)\n",
      "Requirement already satisfied: numpy>=1.23.2 in c:\\users\\naduk\\anaconda3\\lib\\site-packages (from pandas) (1.26.4)\n",
      "Requirement already satisfied: python-dateutil>=2.8.2 in c:\\users\\naduk\\anaconda3\\lib\\site-packages (from pandas) (2.8.2)\n",
      "Requirement already satisfied: pytz>=2020.1 in c:\\users\\naduk\\anaconda3\\lib\\site-packages (from pandas) (2023.3.post1)\n",
      "Requirement already satisfied: tzdata>=2022.7 in c:\\users\\naduk\\anaconda3\\lib\\site-packages (from pandas) (2023.3)\n",
      "Requirement already satisfied: six>=1.5 in c:\\users\\naduk\\anaconda3\\lib\\site-packages (from python-dateutil>=2.8.2->pandas) (1.16.0)\n",
      "Note: you may need to restart the kernel to use updated packages.\n"
     ]
    }
   ],
   "source": [
    "%pip install pandas\n",
    "import pandas as pd"
   ]
  },
  {
   "cell_type": "code",
   "execution_count": 3,
   "id": "46cdab0f",
   "metadata": {},
   "outputs": [],
   "source": [
    "crm=pd.read_csv(\"crimes_near_property/number_of_crimes_near_property_last_five_years..csv\")"
   ]
  },
  {
   "cell_type": "code",
   "execution_count": 4,
   "id": "6db50a2c",
   "metadata": {},
   "outputs": [
    {
     "data": {
      "text/html": [
       "<div>\n",
       "<style scoped>\n",
       "    .dataframe tbody tr th:only-of-type {\n",
       "        vertical-align: middle;\n",
       "    }\n",
       "\n",
       "    .dataframe tbody tr th {\n",
       "        vertical-align: top;\n",
       "    }\n",
       "\n",
       "    .dataframe thead th {\n",
       "        text-align: right;\n",
       "    }\n",
       "</style>\n",
       "<table border=\"1\" class=\"dataframe\">\n",
       "  <thead>\n",
       "    <tr style=\"text-align: right;\">\n",
       "      <th></th>\n",
       "      <th>Join_Count</th>\n",
       "      <th>TARGET_FID</th>\n",
       "      <th>PropertyID</th>\n",
       "      <th>PropType</th>\n",
       "      <th>District</th>\n",
       "      <th>nbhd</th>\n",
       "      <th>Style</th>\n",
       "      <th>Stories</th>\n",
       "      <th>Year_Built</th>\n",
       "      <th>Rooms</th>\n",
       "      <th>...</th>\n",
       "      <th>BUFF_DIST</th>\n",
       "      <th>ORIG_FID</th>\n",
       "      <th>Field1</th>\n",
       "      <th>Location_1</th>\n",
       "      <th>ReportedYear</th>\n",
       "      <th>crime_count</th>\n",
       "      <th>longitude_1</th>\n",
       "      <th>latitude_1</th>\n",
       "      <th>Shape_Length</th>\n",
       "      <th>Shape_Area</th>\n",
       "    </tr>\n",
       "  </thead>\n",
       "  <tbody>\n",
       "    <tr>\n",
       "      <th>0</th>\n",
       "      <td>178</td>\n",
       "      <td>1</td>\n",
       "      <td>173613.0</td>\n",
       "      <td>Residential</td>\n",
       "      <td>3.0</td>\n",
       "      <td>3160.0</td>\n",
       "      <td>Duplex O/S</td>\n",
       "      <td>2.0</td>\n",
       "      <td>1908.0</td>\n",
       "      <td>10.0</td>\n",
       "      <td>...</td>\n",
       "      <td>200.0</td>\n",
       "      <td>348</td>\n",
       "      <td>4131.0</td>\n",
       "      <td>1708 E GENEVA PL</td>\n",
       "      <td>2016.0</td>\n",
       "      <td>3.0</td>\n",
       "      <td>-87.888789</td>\n",
       "      <td>43.070220</td>\n",
       "      <td>0.013447</td>\n",
       "      <td>0.000014</td>\n",
       "    </tr>\n",
       "    <tr>\n",
       "      <th>1</th>\n",
       "      <td>15</td>\n",
       "      <td>2</td>\n",
       "      <td>856121.0</td>\n",
       "      <td>Condominium</td>\n",
       "      <td>3.0</td>\n",
       "      <td>5924.0</td>\n",
       "      <td>Condo Duplex</td>\n",
       "      <td>3.0</td>\n",
       "      <td>2005.0</td>\n",
       "      <td>5.0</td>\n",
       "      <td>...</td>\n",
       "      <td>200.0</td>\n",
       "      <td>855</td>\n",
       "      <td>685.0</td>\n",
       "      <td>1100 E KANE PL</td>\n",
       "      <td>2016.0</td>\n",
       "      <td>1.0</td>\n",
       "      <td>-87.897934</td>\n",
       "      <td>43.056481</td>\n",
       "      <td>0.009032</td>\n",
       "      <td>0.000002</td>\n",
       "    </tr>\n",
       "    <tr>\n",
       "      <th>2</th>\n",
       "      <td>125</td>\n",
       "      <td>3</td>\n",
       "      <td>189902.0</td>\n",
       "      <td>Residential</td>\n",
       "      <td>3.0</td>\n",
       "      <td>3240.0</td>\n",
       "      <td>Duplex-Cottage</td>\n",
       "      <td>2.0</td>\n",
       "      <td>1883.0</td>\n",
       "      <td>11.0</td>\n",
       "      <td>...</td>\n",
       "      <td>200.0</td>\n",
       "      <td>659</td>\n",
       "      <td>1425.0</td>\n",
       "      <td>1214 E KANE PL</td>\n",
       "      <td>2016.0</td>\n",
       "      <td>1.0</td>\n",
       "      <td>-87.895885</td>\n",
       "      <td>43.056261</td>\n",
       "      <td>0.013445</td>\n",
       "      <td>0.000014</td>\n",
       "    </tr>\n",
       "    <tr>\n",
       "      <th>3</th>\n",
       "      <td>55</td>\n",
       "      <td>4</td>\n",
       "      <td>174147.0</td>\n",
       "      <td>Residential</td>\n",
       "      <td>3.0</td>\n",
       "      <td>3060.0</td>\n",
       "      <td>Residence O/S</td>\n",
       "      <td>2.0</td>\n",
       "      <td>1901.0</td>\n",
       "      <td>7.0</td>\n",
       "      <td>...</td>\n",
       "      <td>200.0</td>\n",
       "      <td>120</td>\n",
       "      <td>8678.0</td>\n",
       "      <td>2507 E LINNWOOD AV</td>\n",
       "      <td>2017.0</td>\n",
       "      <td>1.0</td>\n",
       "      <td>-87.878930</td>\n",
       "      <td>43.072696</td>\n",
       "      <td>0.013447</td>\n",
       "      <td>0.000014</td>\n",
       "    </tr>\n",
       "    <tr>\n",
       "      <th>4</th>\n",
       "      <td>81</td>\n",
       "      <td>5</td>\n",
       "      <td>174037.0</td>\n",
       "      <td>Condominium</td>\n",
       "      <td>3.0</td>\n",
       "      <td>5504.0</td>\n",
       "      <td>Low Rise 1-3 Stories</td>\n",
       "      <td>1.0</td>\n",
       "      <td>1905.0</td>\n",
       "      <td>7.0</td>\n",
       "      <td>...</td>\n",
       "      <td>200.0</td>\n",
       "      <td>599</td>\n",
       "      <td>6687.0</td>\n",
       "      <td>2209 E PARK PL</td>\n",
       "      <td>2017.0</td>\n",
       "      <td>1.0</td>\n",
       "      <td>-87.882512</td>\n",
       "      <td>43.067151</td>\n",
       "      <td>0.013447</td>\n",
       "      <td>0.000014</td>\n",
       "    </tr>\n",
       "  </tbody>\n",
       "</table>\n",
       "<p>5 rows × 34 columns</p>\n",
       "</div>"
      ],
      "text/plain": [
       "   Join_Count  TARGET_FID  PropertyID     PropType  District    nbhd  \\\n",
       "0         178           1    173613.0  Residential       3.0  3160.0   \n",
       "1          15           2    856121.0  Condominium       3.0  5924.0   \n",
       "2         125           3    189902.0  Residential       3.0  3240.0   \n",
       "3          55           4    174147.0  Residential       3.0  3060.0   \n",
       "4          81           5    174037.0  Condominium       3.0  5504.0   \n",
       "\n",
       "                  Style  Stories  Year_Built  Rooms  ...  BUFF_DIST  ORIG_FID  \\\n",
       "0            Duplex O/S      2.0      1908.0   10.0  ...      200.0       348   \n",
       "1          Condo Duplex      3.0      2005.0    5.0  ...      200.0       855   \n",
       "2        Duplex-Cottage      2.0      1883.0   11.0  ...      200.0       659   \n",
       "3         Residence O/S      2.0      1901.0    7.0  ...      200.0       120   \n",
       "4  Low Rise 1-3 Stories      1.0      1905.0    7.0  ...      200.0       599   \n",
       "\n",
       "   Field1          Location_1  ReportedYear  crime_count longitude_1  \\\n",
       "0  4131.0    1708 E GENEVA PL        2016.0          3.0  -87.888789   \n",
       "1   685.0      1100 E KANE PL        2016.0          1.0  -87.897934   \n",
       "2  1425.0      1214 E KANE PL        2016.0          1.0  -87.895885   \n",
       "3  8678.0  2507 E LINNWOOD AV        2017.0          1.0  -87.878930   \n",
       "4  6687.0      2209 E PARK PL        2017.0          1.0  -87.882512   \n",
       "\n",
       "   latitude_1 Shape_Length  Shape_Area  \n",
       "0   43.070220     0.013447    0.000014  \n",
       "1   43.056481     0.009032    0.000002  \n",
       "2   43.056261     0.013445    0.000014  \n",
       "3   43.072696     0.013447    0.000014  \n",
       "4   43.067151     0.013447    0.000014  \n",
       "\n",
       "[5 rows x 34 columns]"
      ]
     },
     "execution_count": 4,
     "metadata": {},
     "output_type": "execute_result"
    }
   ],
   "source": [
    "crm.head(5)"
   ]
  },
  {
   "cell_type": "code",
   "execution_count": 5,
   "id": "a20759a6",
   "metadata": {},
   "outputs": [],
   "source": [
    "crm.rename(columns={'Join_Count': 'count_of_crimes_200m'}, inplace=True)"
   ]
  },
  {
   "cell_type": "code",
   "execution_count": 7,
   "id": "bf63069b",
   "metadata": {},
   "outputs": [
    {
     "data": {
      "text/plain": [
       "Index(['count_of_crimes_200m', 'TARGET_FID', 'PropertyID', 'PropType',\n",
       "       'District', 'nbhd', 'Style', 'Stories', 'Year_Built', 'Rooms',\n",
       "       'FinishedSqft', 'Units', 'Bdrms', 'Fbath', 'Hbath', 'Lotsize',\n",
       "       'Sale_date', 'Sale_price', 'Location', 'latitude', 'longitude', 'City',\n",
       "       'State', 'Country', 'BUFF_DIST', 'ORIG_FID', 'Field1', 'Location_1',\n",
       "       'ReportedYear', 'crime_count', 'longitude_1', 'latitude_1',\n",
       "       'Shape_Length', 'Shape_Area'],\n",
       "      dtype='object')"
      ]
     },
     "execution_count": 7,
     "metadata": {},
     "output_type": "execute_result"
    }
   ],
   "source": [
    "crm.columns"
   ]
  },
  {
   "cell_type": "code",
   "execution_count": 8,
   "id": "0a7d351d",
   "metadata": {},
   "outputs": [],
   "source": [
    "crm.drop(['TARGET_FID', 'PropertyID','City','State', 'Country', 'BUFF_DIST', 'ORIG_FID', 'Field1', 'Location_1','crime_count', 'longitude_1', 'latitude_1',\n",
    "       'Shape_Length', 'Shape_Area'],axis=1,inplace=True)"
   ]
  },
  {
   "cell_type": "code",
   "execution_count": 9,
   "id": "2413929f",
   "metadata": {},
   "outputs": [
    {
     "data": {
      "text/plain": [
       "Index(['count_of_crimes_200m', 'PropType', 'District', 'nbhd', 'Style',\n",
       "       'Stories', 'Year_Built', 'Rooms', 'FinishedSqft', 'Units', 'Bdrms',\n",
       "       'Fbath', 'Hbath', 'Lotsize', 'Sale_date', 'Sale_price', 'Location',\n",
       "       'latitude', 'longitude', 'ReportedYear'],\n",
       "      dtype='object')"
      ]
     },
     "execution_count": 9,
     "metadata": {},
     "output_type": "execute_result"
    }
   ],
   "source": [
    "crm.columns"
   ]
  }
 ],
 "metadata": {
  "kernelspec": {
   "display_name": "base",
   "language": "python",
   "name": "python3"
  },
  "language_info": {
   "codemirror_mode": {
    "name": "ipython",
    "version": 3
   },
   "file_extension": ".py",
   "mimetype": "text/x-python",
   "name": "python",
   "nbconvert_exporter": "python",
   "pygments_lexer": "ipython3",
   "version": "3.11.5"
  }
 },
 "nbformat": 4,
 "nbformat_minor": 5
}
